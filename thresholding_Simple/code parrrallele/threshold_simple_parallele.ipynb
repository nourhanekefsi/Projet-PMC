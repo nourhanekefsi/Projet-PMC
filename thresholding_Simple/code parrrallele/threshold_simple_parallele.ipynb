{
  "nbformat": 4,
  "nbformat_minor": 0,
  "metadata": {
    "colab": {
      "provenance": [],
      "gpuType": "T4"
    },
    "kernelspec": {
      "name": "python3",
      "display_name": "Python 3"
    },
    "language_info": {
      "name": "python"
    },
    "accelerator": "GPU"
  },
  "cells": [
    {
      "cell_type": "code",
      "execution_count": null,
      "metadata": {
        "colab": {
          "base_uri": "https://localhost:8080/"
        },
        "id": "ozQA94FGB9n4",
        "outputId": "429ff917-d264-4ece-9cba-85e11a520088"
      },
      "outputs": [
        {
          "output_type": "stream",
          "name": "stdout",
          "text": [
            "Python 3.10.12\n",
            "nvcc: NVIDIA (R) Cuda compiler driver\n",
            "Copyright (c) 2005-2023 NVIDIA Corporation\n",
            "Built on Tue_Aug_15_22:02:13_PDT_2023\n",
            "Cuda compilation tools, release 12.2, V12.2.140\n",
            "Build cuda_12.2.r12.2/compiler.33191640_0\n",
            "Collecting nvcc4jupyter\n",
            "  Downloading nvcc4jupyter-1.2.1-py3-none-any.whl.metadata (5.1 kB)\n",
            "Downloading nvcc4jupyter-1.2.1-py3-none-any.whl (10 kB)\n",
            "Installing collected packages: nvcc4jupyter\n",
            "Successfully installed nvcc4jupyter-1.2.1\n",
            "Detected platform \"Colab\". Running its setup...\n",
            "Source files will be saved in \"/tmp/tmpc32n7i35\".\n"
          ]
        }
      ],
      "source": [
        "!python --version\n",
        "!nvcc --version\n",
        "\n",
        "# Installer l'extension CUDA pour Jupyter\n",
        "!pip install nvcc4jupyter\n",
        "%load_ext nvcc4jupyter"
      ]
    },
    {
      "cell_type": "code",
      "source": [
        "!wget https://raw.githubusercontent.com/nothings/stb/master/stb_image.h\n",
        "!wget https://raw.githubusercontent.com/nothings/stb/master/stb_image_write.h"
      ],
      "metadata": {
        "colab": {
          "base_uri": "https://localhost:8080/"
        },
        "id": "LlI1gRI0IEPY",
        "outputId": "ace10d2e-06f1-4db3-b815-fdf9041adfda"
      },
      "execution_count": null,
      "outputs": [
        {
          "output_type": "stream",
          "name": "stdout",
          "text": [
            "--2024-12-30 20:36:37--  https://raw.githubusercontent.com/nothings/stb/master/stb_image.h\n",
            "Resolving raw.githubusercontent.com (raw.githubusercontent.com)... 185.199.108.133, 185.199.109.133, 185.199.110.133, ...\n",
            "Connecting to raw.githubusercontent.com (raw.githubusercontent.com)|185.199.108.133|:443... connected.\n",
            "HTTP request sent, awaiting response... 200 OK\n",
            "Length: 283010 (276K) [text/plain]\n",
            "Saving to: ‘stb_image.h’\n",
            "\n",
            "\rstb_image.h           0%[                    ]       0  --.-KB/s               \rstb_image.h         100%[===================>] 276.38K  --.-KB/s    in 0.02s   \n",
            "\n",
            "2024-12-30 20:36:37 (11.5 MB/s) - ‘stb_image.h’ saved [283010/283010]\n",
            "\n",
            "--2024-12-30 20:36:37--  https://raw.githubusercontent.com/nothings/stb/master/stb_image_write.h\n",
            "Resolving raw.githubusercontent.com (raw.githubusercontent.com)... 185.199.108.133, 185.199.109.133, 185.199.110.133, ...\n",
            "Connecting to raw.githubusercontent.com (raw.githubusercontent.com)|185.199.108.133|:443... connected.\n",
            "HTTP request sent, awaiting response... 200 OK\n",
            "Length: 71221 (70K) [text/plain]\n",
            "Saving to: ‘stb_image_write.h’\n",
            "\n",
            "stb_image_write.h   100%[===================>]  69.55K  --.-KB/s    in 0.01s   \n",
            "\n",
            "2024-12-30 20:36:37 (4.60 MB/s) - ‘stb_image_write.h’ saved [71221/71221]\n",
            "\n"
          ]
        }
      ]
    },
    {
      "cell_type": "code",
      "source": [
        "%%cuda\n",
        "#include <stdio.h>\n",
        "#include <stdlib.h>\n",
        "#include <time.h>\n",
        "#define STB_IMAGE_IMPLEMENTATION\n",
        "#define STB_IMAGE_WRITE_IMPLEMENTATION\n",
        "#include \"/content/stb_image.h\"\n",
        "#include \"/content/stb_image_write.h\"\n",
        "\n",
        "\n",
        "unsigned char* resize_image(unsigned char* input_image, int width, int height, int new_width, int new_height) {\n",
        "    unsigned char* resized_image = (unsigned char*)malloc(new_width * new_height * sizeof(unsigned char));\n",
        "    float x_ratio = (float)width / new_width;\n",
        "    float y_ratio = (float)height / new_height;\n",
        "\n",
        "    for (int y = 0; y < new_height; y++) {\n",
        "        for (int x = 0; x < new_width; x++) {\n",
        "            int px = (int)(x * x_ratio);\n",
        "            int py = (int)(y * y_ratio);\n",
        "            resized_image[y * new_width + x] = input_image[py * width + px];\n",
        "        }\n",
        "    }\n",
        "    return resized_image;\n",
        "}\n",
        "\n",
        "__global__ void thresholding(unsigned char *image, int n, unsigned char *imageResult) {\n",
        "    int idx = threadIdx.x + blockDim.x * blockIdx.x;\n",
        "    if (idx < n) {\n",
        "        imageResult[idx] = (image[idx] >= 188) ? 255 : 0;\n",
        "    }\n",
        "}\n",
        "\n",
        "int main() {\n",
        "    int width, height, channels;\n",
        "    unsigned char *image = stbi_load(\"/content/images.png\", &width, &height, &channels, 1);\n",
        "    if (image == NULL) {\n",
        "        printf(\"Erreur lors du chargement de l'image\\n\");\n",
        "        return 1;\n",
        "    }\n",
        "\n",
        "    int factors[] = {1, 3, 5, 7, 9, 11};\n",
        "    int num_factors = sizeof(factors) / sizeof(factors[0]);\n",
        "\n",
        "    unsigned char *d_image, *d_imageResult;\n",
        "    printf(\"Taille originale de l'image : %dx%d\\n\", width, height);\n",
        "    printf(\"Facteur\\tTemps moyen du kernel (ms)\\n\");\n",
        "\n",
        "    for (int i = 0; i < num_factors; i++) {\n",
        "        int factor = factors[i];\n",
        "        int new_width = width / factor;\n",
        "        int new_height = height / factor;\n",
        "        int n = new_width * new_height;\n",
        "\n",
        "        unsigned char* resized_image = resize_image(image, width, height, new_width, new_height);\n",
        "\n",
        "        cudaMalloc((void**)&d_image, n * sizeof(unsigned char));\n",
        "        cudaMalloc((void**)&d_imageResult, n * sizeof(unsigned char));\n",
        "        cudaMemcpy(d_image, resized_image, n * sizeof(unsigned char), cudaMemcpyHostToDevice);\n",
        "\n",
        "        int blockSize = 64;\n",
        "        int numBlocks = (n + blockSize - 1) / blockSize;\n",
        "\n",
        "        // Mesure du temps d'exécution\n",
        "        cudaEvent_t start, stop;\n",
        "        cudaEventCreate(&start);\n",
        "        cudaEventCreate(&stop);\n",
        "\n",
        "        cudaEventRecord(start);\n",
        "\n",
        "        thresholding<<<numBlocks, blockSize>>>(d_image, n, d_imageResult);\n",
        "        cudaDeviceSynchronize();\n",
        "\n",
        "        cudaEventRecord(stop);\n",
        "        cudaEventSynchronize(stop);\n",
        "\n",
        "\n",
        "\n",
        "        float milliseconds = 0;\n",
        "        cudaEventElapsedTime(&milliseconds, start, stop);\n",
        "\n",
        "        printf(\"Facteur : %d, Temps moyen : %.3f ms\\n\", factor, milliseconds);\n",
        "\n",
        "        // Récupération de l'image segmentée sur le CPU\n",
        "        unsigned char* h_imageResult = (unsigned char*)malloc(n * sizeof(unsigned char));\n",
        "        cudaMemcpy(h_imageResult, d_imageResult, n * sizeof(unsigned char), cudaMemcpyDeviceToHost);\n",
        "\n",
        "        // Sauvegarde de l'image segmentée\n",
        "        char filename[50];\n",
        "        sprintf(filename, \"/content/segmented_factor_%d.png\", factor);\n",
        "        stbi_write_png(filename, new_width, new_height, 1, h_imageResult, new_width);\n",
        "\n",
        "        // Nettoyage\n",
        "        free(resized_image);\n",
        "        free(h_imageResult);\n",
        "        cudaFree(d_image);\n",
        "        cudaFree(d_imageResult);\n",
        "        cudaEventDestroy(start);\n",
        "        cudaEventDestroy(stop);\n",
        "    }\n",
        "\n",
        "    // Libération de l'image originale\n",
        "    stbi_image_free(image);\n",
        "\n",
        "    return 0;\n",
        "}"
      ],
      "metadata": {
        "colab": {
          "base_uri": "https://localhost:8080/"
        },
        "id": "hX2O8UA1CSyW",
        "outputId": "e4b6d197-d224-4f25-a98b-9748c3693a7d"
      },
      "execution_count": 5,
      "outputs": [
        {
          "output_type": "stream",
          "name": "stdout",
          "text": [
            "Taille originale de l'image : 225x225\n",
            "Facteur\tTemps moyen du kernel (ms)\n",
            "Facteur : 1, Temps moyen : 0.181 ms\n",
            "Facteur : 3, Temps moyen : 0.018 ms\n",
            "Facteur : 5, Temps moyen : 0.016 ms\n",
            "Facteur : 7, Temps moyen : 0.016 ms\n",
            "Facteur : 9, Temps moyen : 0.015 ms\n",
            "Facteur : 11, Temps moyen : 0.016 ms\n",
            "Processus terminé.\n",
            "\n"
          ]
        }
      ]
    }
  ]
}