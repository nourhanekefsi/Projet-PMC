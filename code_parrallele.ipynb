{
  "nbformat": 4,
  "nbformat_minor": 0,
  "metadata": {
    "colab": {
      "provenance": [],
      "gpuType": "T4",
      "authorship_tag": "ABX9TyM9SaWQqYggaytoewT0LqSa",
      "include_colab_link": true
    },
    "kernelspec": {
      "name": "python3",
      "display_name": "Python 3"
    },
    "language_info": {
      "name": "python"
    },
    "accelerator": "GPU"
  },
  "cells": [
    {
      "cell_type": "markdown",
      "metadata": {
        "id": "view-in-github",
        "colab_type": "text"
      },
      "source": [
        "<a href=\"https://colab.research.google.com/github/nourhanekefsi/Projet-PMC/blob/main/code_parrallele.ipynb\" target=\"_parent\"><img src=\"https://colab.research.google.com/assets/colab-badge.svg\" alt=\"Open In Colab\"/></a>"
      ]
    },
    {
      "cell_type": "code",
      "source": [
        "!python --version\n",
        "!nvcc --version\n",
        "\n",
        "# Installer l'extension CUDA pour Jupyter\n",
        "!pip install nvcc4jupyter\n",
        "%load_ext nvcc4jupyter\n"
      ],
      "metadata": {
        "colab": {
          "base_uri": "https://localhost:8080/"
        },
        "id": "-kKkfeZtsIhf",
        "outputId": "e3064be5-3a4f-4098-8df1-05ecdadd2547"
      },
      "execution_count": 2,
      "outputs": [
        {
          "output_type": "stream",
          "name": "stdout",
          "text": [
            "Python 3.10.12\n",
            "nvcc: NVIDIA (R) Cuda compiler driver\n",
            "Copyright (c) 2005-2023 NVIDIA Corporation\n",
            "Built on Tue_Aug_15_22:02:13_PDT_2023\n",
            "Cuda compilation tools, release 12.2, V12.2.140\n",
            "Build cuda_12.2.r12.2/compiler.33191640_0\n",
            "Collecting nvcc4jupyter\n",
            "  Downloading nvcc4jupyter-1.2.1-py3-none-any.whl.metadata (5.1 kB)\n",
            "Downloading nvcc4jupyter-1.2.1-py3-none-any.whl (10 kB)\n",
            "Installing collected packages: nvcc4jupyter\n",
            "Successfully installed nvcc4jupyter-1.2.1\n",
            "Detected platform \"Colab\". Running its setup...\n",
            "Source files will be saved in \"/tmp/tmpoliy_0zl\".\n"
          ]
        }
      ]
    },
    {
      "cell_type": "markdown",
      "source": [
        "Segmentation par seuillage simple"
      ],
      "metadata": {
        "id": "lH4IowOxtPkJ"
      }
    },
    {
      "cell_type": "code",
      "source": [
        "%%cuda\n",
        "#include <stdio.h>\n",
        "#include <stdlib.h>\n",
        "#include <time.h>\n",
        "#define STB_IMAGE_IMPLEMENTATION\n",
        "#define STB_IMAGE_WRITE_IMPLEMENTATION\n",
        "#include \"/content/stb_image.h\"\n",
        "#include \"/content/stb_image_write.h\"\n",
        "\n",
        "__global__ void thresholding(unsigned char *image, int seuil, int n, unsigned char *imageResult) {\n",
        "    int idx = threadIdx.x + blockDim.x * blockIdx.x;\n",
        "    if (idx < n) {\n",
        "        imageResult[idx] = imageResult[idx] = (image[idx] / 128) * 255;\n",
        "    }\n",
        "}\n",
        "\n",
        "int main() {\n",
        "    clock_t start_total, end_total;\n",
        "    start_total = clock();\n",
        "\n",
        "    int width, height, channels;\n",
        "\n",
        "    unsigned char *image = stbi_load(\"/content/images.png\", &width, &height, &channels, 1);\n",
        "\n",
        "    if (image == NULL) {\n",
        "        printf(\"Erreur lors du chargement de l'image\\n\");\n",
        "        return 1;\n",
        "    }\n",
        "\n",
        "    int n = width * height;\n",
        "\n",
        "    unsigned char *h_imageResult = (unsigned char*)malloc(n * sizeof(unsigned char));\n",
        "\n",
        "    unsigned char *d_image, *d_imageResult;\n",
        "    cudaMalloc((void**)&d_image, n * sizeof(unsigned char));\n",
        "    cudaMalloc((void**)&d_imageResult, n * sizeof(unsigned char));\n",
        "\n",
        "    cudaMemcpy(d_image, image, n * sizeof(unsigned char), cudaMemcpyHostToDevice);\n",
        "\n",
        "    int seuil = 127;\n",
        "\n",
        "    int blockSize = 64;\n",
        "    int numBlocks = (n + blockSize - 1) / blockSize;\n",
        "\n",
        "    thresholding<<<numBlocks, blockSize>>>(d_image, seuil, n, d_imageResult);\n",
        "\n",
        "    cudaDeviceSynchronize();\n",
        "\n",
        "    cudaMemcpy(h_imageResult, d_imageResult, n * sizeof(unsigned char), cudaMemcpyDeviceToHost);\n",
        "    end_total = clock();\n",
        "    double total_time = ((double)(end_total - start_total)) / CLOCKS_PER_SEC;\n",
        "    printf(\"Temps total d'exécution : %.3f secondes\\n\", total_time);\n",
        "\n",
        "    stbi_write_png(\"thresholded_image.png\", width, height, 1, h_imageResult, width);\n",
        "\n",
        "    stbi_image_free(image);\n",
        "    free(h_imageResult);\n",
        "    cudaFree(d_image);\n",
        "    cudaFree(d_imageResult);\n",
        "\n",
        "    return 0;\n",
        "}\n"
      ],
      "metadata": {
        "colab": {
          "base_uri": "https://localhost:8080/"
        },
        "id": "U9WlHmmGtn3w",
        "outputId": "67dd5ac3-3f4a-4818-bbd9-908f65dff584"
      },
      "execution_count": 9,
      "outputs": [
        {
          "output_type": "stream",
          "name": "stdout",
          "text": [
            "Temps total d'exécution : 0.202 secondes\n",
            "\n"
          ]
        }
      ]
    },
    {
      "cell_type": "markdown",
      "source": [
        "code parralle de segmentation en utilisant otsu"
      ],
      "metadata": {
        "id": "8GFAdfcSBmMi"
      }
    },
    {
      "cell_type": "code",
      "source": [
        "%%cuda\n",
        "#include <stdio.h>\n",
        "#include <stdlib.h>\n",
        "#include <time.h>\n",
        "#define STB_IMAGE_IMPLEMENTATION\n",
        "#define STB_IMAGE_WRITE_IMPLEMENTATION\n",
        "#include \"/content/stb_image.h\"\n",
        "#include \"/content/stb_image_write.h\"\n",
        "#include <math.h>\n",
        "\n",
        "__constant__ int N;\n",
        "__constant__ int* somme;\n",
        "\n",
        "__global__ void otsu_segmentation(unsigned char *image, int n, unsigned char *imageResult, int *histogram, float *moyennes, float *weights, float *caracteristiques) {\n",
        "    int idx = threadIdx.x + blockDim.x * blockIdx.x;\n",
        "    if (idx < n) {\n",
        "        histogram[image[idx]]++;\n",
        "    }\n",
        "    __syncthreads();\n",
        "\n",
        "    int tid = threadIdx.x;\n",
        "    int y = blockIdx.y;\n",
        "    int T = blockIdx.x;\n",
        "    float sum = 0.0f;\n",
        "    __shared__ int shared_sum[256];\n",
        "\n",
        "    shared_sum[tid] = (y * (tid - 1)) * histogram[tid] + histogram[tid];\n",
        "    int max = fminf(fmaxf(tid - T, 0), 1);\n",
        "    for (int stride = ((256 - 2 * T) * max + T) / 2; stride > 0; stride /= 2) {\n",
        "        if (tid < stride && T < 256) {\n",
        "            shared_sum[tid] += shared_sum[tid + stride];\n",
        "        }\n",
        "        __syncthreads();\n",
        "    }\n",
        "    if (tid == 0 || tid == T + 1) {\n",
        "        somme[blockIdx.x * 2 + max] = shared_sum[(int)fmaxf(tid, 0)];\n",
        "    }\n",
        "\n",
        "    if (T == 255 && tid == 0) {\n",
        "        cudaMemcpyToSymbol(N, &shared_sum[0], sizeof(int));\n",
        "    } else if ((tid == 0 || tid == T + 1) && y == 0) {\n",
        "        weights[blockIdx.x * 2 + max] = (float)shared_sum[(int)fmaxf(tid, 0)] / N;\n",
        "        __syncthreads();\n",
        "    } else if ((tid == 0 || tid == T + 1) && y == 1) {\n",
        "        moyennes[blockIdx.x * 2 + max] = (float)shared_sum[(int)fmaxf(tid, 0)] / somme[blockIdx.x * 2 + max];\n",
        "        __syncthreads();\n",
        "    }\n",
        "    if (idx <= 255 * 2) {\n",
        "        caracteristiques[idx] = weights[idx] * weights[idx + 1] * powf(moyennes[idx] - moyennes[idx + 1], 2);\n",
        "    }\n",
        "    __shared__ int shared_max[256];\n",
        "\n",
        "    if (T == 0 && tid <= 255 && y == 0) {\n",
        "        shared_max[tid] = caracteristiques[tid];\n",
        "        __syncthreads();\n",
        "        for (int stride = 255 / 2; stride > 0; stride /= 2) {\n",
        "            if (tid < stride) {\n",
        "                shared_max[tid] = fmaxf(shared_max[tid + stride], shared_max[tid]);\n",
        "            }\n",
        "            __syncthreads();\n",
        "        }\n",
        "    }\n",
        "    if (tid == 0 && T == 0 && y == 0) {\n",
        "        int threshold = shared_max[0];\n",
        "        if (idx < n) {\n",
        "            imageResult[idx] = (image[idx] > threshold) ? 255 : 0;\n",
        "        }\n",
        "    }\n",
        "}\n",
        "\n",
        "int main() {\n",
        "    cudaEvent_t start, stop;\n",
        "    cudaEventCreate(&start);\n",
        "    cudaEventCreate(&stop);\n",
        "    int width, height, channels;\n",
        "    int *N:\n",
        "    unsigned char *image = stbi_load(\"/content/images.png\", &width, &height, &channels, 1);\n",
        "    float *moyennes, *weights, *caracteristiques;\n",
        "    if (image == NULL) {\n",
        "        printf(\"Erreur lors du chargement de l'image\\n\");\n",
        "        return 1;\n",
        "    }\n",
        "\n",
        "    int n = width * height;\n",
        "\n",
        "    unsigned char *h_imageResult = (unsigned char*)malloc(n * sizeof(unsigned char));\n",
        "    unsigned char *d_image, *d_imageResult;\n",
        "    int *d_histogram;\n",
        "\n",
        "    cudaMalloc((void**)&d_image, n * sizeof(unsigned char));\n",
        "    cudaMalloc((void**)&d_imageResult, n * sizeof(unsigned char));\n",
        "    cudaMalloc((void**)&d_histogram, 256 * sizeof(int));\n",
        "    cudaMalloc((void**)&moyennes, 255 * 2 * sizeof(float));\n",
        "    cudaMalloc((void**)&weights, 255 * 2 * sizeof(float));\n",
        "    cudaMalloc((void**)&caracteristiques, 255 * sizeof(float));\n",
        "    cudaMalloc((void**)&N, sizeof(int));\n",
        "\n",
        "    cudaMemcpy(d_image, image, n * sizeof(unsigned char), cudaMemcpyHostToDevice);\n",
        "\n",
        "    int blockSize = 256;\n",
        "    int numBlocks = fmaxf((n + blockSize - 1) / blockSize, 255);\n",
        "    cudaEventRecord(start, 0);\n",
        "    otsu_segmentation<<<numBlocks, blockSize>>>(d_image, n, d_imageResult, d_histogram, moyennes, weights, caracteristiques);\n",
        "    cudaEventRecord(stop, 0);\n",
        "    cudaEventSynchronize(stop);\n",
        "    float time = 0;\n",
        "    cudaEventElapsedTime(&time, start, stop);\n",
        "    cudaMemcpy(h_imageResult, d_imageResult, n * sizeof(unsigned char), cudaMemcpyDeviceToHost);\n",
        "\n",
        "    printf(\"Temps total d'exécution : %.3f secondes\\n\", time);\n",
        "\n",
        "    stbi_write_png(\"otsu_segmented_image.png\", width, height, 1, h_imageResult, width);\n",
        "\n",
        "    stbi_image_free(image);\n",
        "    free(h_imageResult);\n",
        "    cudaFree(d_image);\n",
        "    cudaFree(d_imageResult);\n",
        "    cudaFree(d_histogram);\n",
        "\n",
        "    return 0;\n",
        "}\n"
      ],
      "metadata": {
        "colab": {
          "base_uri": "https://localhost:8080/"
        },
        "id": "pH_BMGGbBq2o",
        "outputId": "d747df1a-70f1-4ece-fe36-e1f44fc8c45f"
      },
      "execution_count": 8,
      "outputs": [
        {
          "output_type": "stream",
          "name": "stdout",
          "text": [
            "/content/stb_image.h(4276): warning #550-D: variable \"old_limit\" was set but never used\n",
            "     unsigned int cur, limit, old_limit;\n",
            "                              ^\n",
            "\n",
            "Remark: The warnings can be suppressed with \"-diag-suppress <warning-number>\"\n",
            "\n",
            "/content/stb_image.h(5185): warning #550-D: variable \"idata_limit_old\" was set but never used\n",
            "                 stbi__uint32 idata_limit_old = idata_limit;\n",
            "                              ^\n",
            "\n",
            "/content/stb_image.h(6972): warning #550-D: variable \"out_size\" was set but never used\n",
            "        int out_size = 0;\n",
            "            ^\n",
            "\n",
            "/content/stb_image.h(6973): warning #550-D: variable \"delays_size\" was set but never used\n",
            "        int delays_size = 0;\n",
            "            ^\n",
            "\n",
            "/tmp/tmpoliy_0zl/f177a1d6-7894-49dd-93b8-3b17e2446aca/single_file.cu(23): warning #177-D: variable \"sum\" was declared but never referenced\n",
            "      float sum = 0.0f;\n",
            "            ^\n",
            "\n",
            "/tmp/tmpoliy_0zl/f177a1d6-7894-49dd-93b8-3b17e2446aca/single_file.cu(39): error: calling a __host__ function(\"cudaError ::cudaMemcpyToSymbol<int> (const T1 &, const void *, unsigned long, unsigned long,     ::cudaMemcpyKind)\") from a __global__ function(\"otsu_segmentation\") is not allowed\n",
            "\n",
            "/tmp/tmpoliy_0zl/f177a1d6-7894-49dd-93b8-3b17e2446aca/single_file.cu(39): error: identifier \"cudaMemcpyToSymbol<int> \" is undefined in device code\n",
            "\n",
            "2 errors detected in the compilation of \"/tmp/tmpoliy_0zl/f177a1d6-7894-49dd-93b8-3b17e2446aca/single_file.cu\".\n",
            "\n"
          ]
        }
      ]
    }
  ]
}