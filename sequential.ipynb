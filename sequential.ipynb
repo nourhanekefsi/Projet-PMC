{
  "nbformat": 4,
  "nbformat_minor": 0,
  "metadata": {
    "colab": {
      "provenance": [],
      "name": "sequential.ipynb"
    },
    "kernelspec": {
      "name": "python3",
      "display_name": "Python 3"
    },
    "language_info": {
      "name": "python"
    }
  },
  "cells": [
    {
      "cell_type": "code",
      "source": [
        "import cv2\n",
        "\n",
        "#Load image in grayscale mode\n",
        "image = cv2.imread('/content/images.png', cv2.IMREAD_GRAYSCALE)\n",
        "\n",
        "if image is None:\n",
        "    print(\"Error loading image.\")\n",
        "    exit()\n",
        "\n",
        "# Resize the image\n",
        "scale_factor = 10  # Increase size by 10x\n",
        "height, width = image.shape\n",
        "new_width = width * scale_factor\n",
        "new_height = height * scale_factor\n",
        "resized_image = cv2.resize(image, (new_width, new_height), interpolation=cv2.INTER_LINEAR)\n",
        "\n",
        "\n",
        "# Save the resized image\n",
        "cv2.imwrite('/content/resized_image.png', resized_image)\n"
      ],
      "metadata": {
        "colab": {
          "base_uri": "https://localhost:8080/"
        },
        "id": "qX6Rb1F8Aw-j",
        "outputId": "55eb5713-c547-44fa-bda6-a0d55aa8fa52"
      },
      "execution_count": null,
      "outputs": [
        {
          "output_type": "execute_result",
          "data": {
            "text/plain": [
              "True"
            ]
          },
          "metadata": {},
          "execution_count": 1
        }
      ]
    },
    {
      "cell_type": "code",
      "execution_count": null,
      "metadata": {
        "colab": {
          "base_uri": "https://localhost:8080/"
        },
        "id": "iJvW_fbL2Ari",
        "outputId": "31746ef8-5ba1-4636-8c3f-09fced2f7c4b"
      },
      "outputs": [
        {
          "output_type": "stream",
          "name": "stdout",
          "text": [
            "Execution time: 14.422 seconds\n"
          ]
        },
        {
          "output_type": "execute_result",
          "data": {
            "text/plain": [
              "True"
            ]
          },
          "metadata": {},
          "execution_count": 2
        }
      ],
      "source": [
        "import cv2\n",
        "import numpy as np\n",
        "import time\n",
        "\n",
        "# Load image in grayscale mode\n",
        "image = cv2.imread('/content/resized_image.png', cv2.IMREAD_GRAYSCALE)\n",
        "\n",
        "if image is None:\n",
        "    print(\"Error loading image.\")\n",
        "    exit()\n",
        "\n",
        "# image dimensions\n",
        "height, width = image.shape\n",
        "\n",
        "# Initialize threshold\n",
        "threshold = 150\n",
        "\n",
        "# Start time\n",
        "start_time = time.time()\n",
        "\n",
        "# Create result image\n",
        "result_image = image.copy()\n",
        "\n",
        "# Perform thresholding\n",
        "for i in range(height):\n",
        "    for j in range(width):\n",
        "        result_image[i, j] = 0 if image[i, j] < threshold else 255\n",
        "\n",
        "# End time\n",
        "end_time = time.time()\n",
        "\n",
        "# Calculate execution time\n",
        "execution_time = end_time - start_time\n",
        "print(f\"Execution time: {execution_time:.3f} seconds\")\n",
        "\n",
        "# Save the thresholded image\n",
        "cv2.imwrite('thresholded_image_seq.png', result_image)\n"
      ]
    }
  ]
}